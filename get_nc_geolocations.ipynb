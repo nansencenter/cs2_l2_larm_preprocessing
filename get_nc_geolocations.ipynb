{
 "cells": [
  {
   "cell_type": "code",
   "execution_count": 1,
   "metadata": {},
   "outputs": [],
   "source": [
    "import glob\n",
    "import os\n",
    "\n",
    "import geopandas as gpd\n",
    "from tqdm.notebook import tqdm\n",
    "\n",
    "from s1cs2lib import s1_nc_geolocation"
   ]
  },
  {
   "cell_type": "code",
   "execution_count": 2,
   "metadata": {},
   "outputs": [],
   "source": [
    "idir = '/Data/sat/downloads/sentinel1/apasip/202001'\n",
    "geodir = f'{idir}/geojson'\n",
    "\n",
    "ifiles = sorted(glob.glob(f'{idir}/*nc'))\n",
    "names = [os.path.basename(ifile) for ifile in ifiles]"
   ]
  },
  {
   "cell_type": "code",
   "execution_count": null,
   "metadata": {},
   "outputs": [],
   "source": [
    "dates = []\n",
    "polygons = []\n",
    "for ifile in tqdm(ifiles):\n",
    "    try:\n",
    "        self = s1_nc_geolocation(ifile)\n",
    "    except:\n",
    "        print('Cannot load ', ifile)\n",
    "    self.read_geolocation()\n",
    "    self.prepare_interpolators()\n",
    "    polygons.append(self.get_border_polygon())\n",
    "    dates.append(self.get_datetime())\n",
    "    break\n"
   ]
  },
  {
   "cell_type": "code",
   "execution_count": null,
   "metadata": {},
   "outputs": [],
   "source": [
    "gdf = gpd.GeoDataFrame(dict(names=names, geometry=polygons), index=dates)\n",
    "gdf.to_file(f'{geodir}/polygons')"
   ]
  }
 ],
 "metadata": {
  "kernelspec": {
   "display_name": "ice2",
   "language": "python",
   "name": "python3"
  },
  "language_info": {
   "codemirror_mode": {
    "name": "ipython",
    "version": 3
   },
   "file_extension": ".py",
   "mimetype": "text/x-python",
   "name": "python",
   "nbconvert_exporter": "python",
   "pygments_lexer": "ipython3",
   "version": "3.12.4"
  }
 },
 "nbformat": 4,
 "nbformat_minor": 2
}
